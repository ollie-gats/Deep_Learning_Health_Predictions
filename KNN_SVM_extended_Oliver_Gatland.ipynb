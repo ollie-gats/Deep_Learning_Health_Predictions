{
 "cells": [
  {
   "cell_type": "markdown",
   "metadata": {},
   "source": [
    "# Extended K-NN & SVM prediction project"
   ]
  },
  {
   "cell_type": "markdown",
   "metadata": {},
   "source": [
    "#### Oliver Gatland"
   ]
  },
  {
   "cell_type": "code",
   "execution_count": 1,
   "metadata": {},
   "outputs": [],
   "source": [
    "# Import packages\n",
    "import pandas as pd\n",
    "import numpy as np\n",
    "import matplotlib.pyplot as plt\n",
    "from sklearn.neighbors import KNeighborsClassifier\n",
    "from sklearn import preprocessing\n",
    "from sklearn.svm import SVC\n",
    "from sklearn.model_selection import GridSearchCV\n",
    "from sklearn.impute import KNNImputer\n",
    "import random\n",
    "from datetime import datetime\n",
    "import matplotlib.pyplot as plt\n",
    "from imblearn.combine import SMOTETomek\n",
    "from imblearn.under_sampling import TomekLinks\n",
    "from sklearn.preprocessing import StandardScaler, RobustScaler, TargetEncoder\n",
    "from sklearn.decomposition import PCA"
   ]
  },
  {
   "cell_type": "code",
   "execution_count": 2,
   "metadata": {},
   "outputs": [],
   "source": [
    "# Loading data\n",
    "df_train = pd.read_csv(\"dl24-probability-of-death-with-k-nn/mimic_train.csv\")\n",
    "df_test = pd.read_csv(\"dl24-probability-of-death-with-k-nn/mimic_test_death.csv\")"
   ]
  },
  {
   "cell_type": "markdown",
   "metadata": {},
   "source": [
    "# Preprocessing"
   ]
  },
  {
   "cell_type": "code",
   "execution_count": 3,
   "metadata": {},
   "outputs": [
    {
     "data": {
      "text/plain": [
       "Index(['HOSPITAL_EXPIRE_FLAG', 'subject_id', 'hadm_id', 'icustay_id',\n",
       "       'HeartRate_Min', 'HeartRate_Max', 'HeartRate_Mean', 'SysBP_Min',\n",
       "       'SysBP_Max', 'SysBP_Mean', 'DiasBP_Min', 'DiasBP_Max', 'DiasBP_Mean',\n",
       "       'MeanBP_Min', 'MeanBP_Max', 'MeanBP_Mean', 'RespRate_Min',\n",
       "       'RespRate_Max', 'RespRate_Mean', 'TempC_Min', 'TempC_Max', 'TempC_Mean',\n",
       "       'SpO2_Min', 'SpO2_Max', 'SpO2_Mean', 'Glucose_Min', 'Glucose_Max',\n",
       "       'Glucose_Mean', 'GENDER', 'DOB', 'DOD', 'ADMITTIME', 'DISCHTIME',\n",
       "       'DEATHTIME', 'Diff', 'ADMISSION_TYPE', 'INSURANCE', 'RELIGION',\n",
       "       'MARITAL_STATUS', 'ETHNICITY', 'DIAGNOSIS', 'ICD9_diagnosis',\n",
       "       'FIRST_CAREUNIT', 'LOS'],\n",
       "      dtype='object')"
      ]
     },
     "execution_count": 3,
     "metadata": {},
     "output_type": "execute_result"
    }
   ],
   "source": [
    "df_train.columns"
   ]
  },
  {
   "cell_type": "code",
   "execution_count": 4,
   "metadata": {},
   "outputs": [
    {
     "data": {
      "text/plain": [
       "Index(['subject_id', 'hadm_id', 'icustay_id', 'HeartRate_Min', 'HeartRate_Max',\n",
       "       'HeartRate_Mean', 'SysBP_Min', 'SysBP_Max', 'SysBP_Mean', 'DiasBP_Min',\n",
       "       'DiasBP_Max', 'DiasBP_Mean', 'MeanBP_Min', 'MeanBP_Max', 'MeanBP_Mean',\n",
       "       'RespRate_Min', 'RespRate_Max', 'RespRate_Mean', 'TempC_Min',\n",
       "       'TempC_Max', 'TempC_Mean', 'SpO2_Min', 'SpO2_Max', 'SpO2_Mean',\n",
       "       'Glucose_Min', 'Glucose_Max', 'Glucose_Mean', 'GENDER', 'DOB',\n",
       "       'ADMITTIME', 'Diff', 'ADMISSION_TYPE', 'INSURANCE', 'RELIGION',\n",
       "       'MARITAL_STATUS', 'ETHNICITY', 'DIAGNOSIS', 'ICD9_diagnosis',\n",
       "       'FIRST_CAREUNIT'],\n",
       "      dtype='object')"
      ]
     },
     "execution_count": 4,
     "metadata": {},
     "output_type": "execute_result"
    }
   ],
   "source": [
    "df_test.columns"
   ]
  },
  {
   "cell_type": "code",
   "execution_count": 5,
   "metadata": {},
   "outputs": [],
   "source": [
    "# Remove columns in the train data not present in the test (but keep death flag)\n",
    "common_columns = df_train.columns.intersection(df_test.columns)\n",
    "df_train = df_train[list(common_columns) + ['HOSPITAL_EXPIRE_FLAG']]"
   ]
  },
  {
   "cell_type": "markdown",
   "metadata": {},
   "source": [
    "We just use the mean of the numeric variables. I experimented with adding the min and max but it did not improve the out of sample prediction."
   ]
  },
  {
   "cell_type": "code",
   "execution_count": 6,
   "metadata": {},
   "outputs": [],
   "source": [
    "# Keep only mean numerical variables\n",
    "df_train.drop(columns=[col for col in df_train.columns if col.endswith('Min') or col.endswith('Max')], inplace=True)\n",
    "df_test.drop(columns=[col for col in df_test.columns if col.endswith('Min') or col.endswith('Max')], inplace=True)"
   ]
  },
  {
   "cell_type": "markdown",
   "metadata": {},
   "source": [
    "### Missing values"
   ]
  },
  {
   "cell_type": "code",
   "execution_count": 7,
   "metadata": {},
   "outputs": [
    {
     "data": {
      "text/plain": [
       "subject_id                 0\n",
       "hadm_id                    0\n",
       "icustay_id                 0\n",
       "HeartRate_Mean          2187\n",
       "SysBP_Mean              2208\n",
       "DiasBP_Mean             2209\n",
       "MeanBP_Mean             2186\n",
       "RespRate_Mean           2189\n",
       "TempC_Mean              2497\n",
       "SpO2_Mean               2203\n",
       "Glucose_Mean             253\n",
       "GENDER                     0\n",
       "DOB                        0\n",
       "ADMITTIME                  0\n",
       "Diff                       0\n",
       "ADMISSION_TYPE             0\n",
       "INSURANCE                  0\n",
       "RELIGION                   0\n",
       "MARITAL_STATUS           722\n",
       "ETHNICITY                  0\n",
       "DIAGNOSIS                  0\n",
       "ICD9_diagnosis             0\n",
       "FIRST_CAREUNIT             0\n",
       "HOSPITAL_EXPIRE_FLAG       0\n",
       "dtype: int64"
      ]
     },
     "execution_count": 7,
     "metadata": {},
     "output_type": "execute_result"
    }
   ],
   "source": [
    "# Check missing values in train\n",
    "df_train.isna().sum()"
   ]
  },
  {
   "cell_type": "code",
   "execution_count": 8,
   "metadata": {},
   "outputs": [
    {
     "data": {
      "text/plain": [
       "subject_id          0\n",
       "hadm_id             0\n",
       "icustay_id          0\n",
       "HeartRate_Mean    545\n",
       "SysBP_Mean        551\n",
       "DiasBP_Mean       552\n",
       "MeanBP_Mean       547\n",
       "RespRate_Mean     546\n",
       "TempC_Mean        638\n",
       "SpO2_Mean         551\n",
       "Glucose_Mean       58\n",
       "GENDER              0\n",
       "DOB                 0\n",
       "ADMITTIME           0\n",
       "Diff                0\n",
       "ADMISSION_TYPE      0\n",
       "INSURANCE           0\n",
       "RELIGION            0\n",
       "MARITAL_STATUS    180\n",
       "ETHNICITY           0\n",
       "DIAGNOSIS           0\n",
       "ICD9_diagnosis      0\n",
       "FIRST_CAREUNIT      0\n",
       "dtype: int64"
      ]
     },
     "execution_count": 8,
     "metadata": {},
     "output_type": "execute_result"
    }
   ],
   "source": [
    "# Check missing values in test\n",
    "df_test.isna().sum()"
   ]
  },
  {
   "cell_type": "markdown",
   "metadata": {},
   "source": [
    "Only cols with missing values are the numericals and marital status. Numericals will be imputed with KNN, marital status is investigated further below."
   ]
  },
  {
   "cell_type": "markdown",
   "metadata": {},
   "source": [
    "### Categorical variables"
   ]
  },
  {
   "cell_type": "markdown",
   "metadata": {},
   "source": [
    "Investigating the following columns that are likely to be appropriate for one hot encoding: 'GENDER', 'ADMISSION_TYPE', 'INSURANCE', 'MARITAL_STATUS'. If possible, it is best to one hot encode categorical variables as it allows us to capture the variation for each category within the model. The main downside is it can often increase the dimensionality of the data, as we add a new column for each possible value of the variable. If there is a high number of unique values for a variable, using one hot encoding would significantly increase the dimensionality of the data. This is computationally expensive, but can also impact the predictive performance of a model, known as the 'curse of dimensionality'.\n",
    "\n",
    "Below I check the number of values for each of these variables, and if there is a low number of unique values, and if each value has a sufficient number of observations, I will one hot encode them. "
   ]
  },
  {
   "cell_type": "code",
   "execution_count": 9,
   "metadata": {},
   "outputs": [
    {
     "name": "stdout",
     "output_type": "stream",
     "text": [
      "['F' 'M']\n",
      "['EMERGENCY' 'ELECTIVE' 'URGENT']\n",
      "['Medicare' 'Private' 'Medicaid' 'Self Pay' 'Government']\n",
      "['SINGLE' 'MARRIED' 'SEPARATED' 'WIDOWED' 'DIVORCED' nan\n",
      " 'UNKNOWN (DEFAULT)' 'LIFE PARTNER']\n"
     ]
    }
   ],
   "source": [
    "print(df_train['GENDER'].unique())\n",
    "print(df_train['ADMISSION_TYPE'].unique())\n",
    "print(df_train['INSURANCE'].unique())\n",
    "print(df_train['MARITAL_STATUS'].unique())"
   ]
  },
  {
   "cell_type": "code",
   "execution_count": 10,
   "metadata": {},
   "outputs": [
    {
     "name": "stdout",
     "output_type": "stream",
     "text": [
      "GENDER\n",
      "M    11759\n",
      "F     9126\n",
      "Name: count, dtype: int64\n",
      "ADMISSION_TYPE\n",
      "EMERGENCY    17817\n",
      "ELECTIVE      2848\n",
      "URGENT         220\n",
      "Name: count, dtype: int64\n",
      "INSURANCE\n",
      "Medicare      11718\n",
      "Private        6245\n",
      "Medicaid       2117\n",
      "Government      611\n",
      "Self Pay        194\n",
      "Name: count, dtype: int64\n",
      "MARITAL_STATUS\n",
      "MARRIED              9664\n",
      "SINGLE               5910\n",
      "WIDOWED              2819\n",
      "DIVORCED             1413\n",
      "SEPARATED             240\n",
      "UNKNOWN (DEFAULT)     103\n",
      "LIFE PARTNER           14\n",
      "Name: count, dtype: int64\n"
     ]
    }
   ],
   "source": [
    "print(df_train['GENDER'].value_counts())\n",
    "print(df_train['ADMISSION_TYPE'].value_counts())\n",
    "print(df_train['INSURANCE'].value_counts())\n",
    "print(df_train['MARITAL_STATUS'].value_counts())"
   ]
  },
  {
   "cell_type": "markdown",
   "metadata": {},
   "source": [
    "All have sufficient values for one hot encoding aside from 'LIFE PARTNER' for marital status. I will combine this with the UNKNOWN column to form a 'other' category."
   ]
  },
  {
   "cell_type": "code",
   "execution_count": 11,
   "metadata": {},
   "outputs": [],
   "source": [
    "# Creating 'other' category in marital status\n",
    "df_train['MARITAL_STATUS'] = df_train['MARITAL_STATUS'].replace(['UNKNOWN (DEFAULT)', 'LIFE PARTNER'], 'OTHER')\n",
    "df_test['MARITAL_STATUS'] = df_test['MARITAL_STATUS'].replace(['UNKNOWN (DEFAULT)', 'LIFE PARTNER'], 'OTHER')"
   ]
  },
  {
   "cell_type": "markdown",
   "metadata": {},
   "source": [
    "As mentioned previously, marital status was the only non-numeric variable with missing values. I look if the patients with missing values tend to have a different death rate."
   ]
  },
  {
   "cell_type": "code",
   "execution_count": 12,
   "metadata": {},
   "outputs": [
    {
     "name": "stdout",
     "output_type": "stream",
     "text": [
      "MARITAL_STATUS\n",
      "DIVORCED     0.113942\n",
      "MARRIED      0.111755\n",
      "MISSING      0.254848\n",
      "OTHER        0.222222\n",
      "SEPARATED    0.108333\n",
      "SINGLE       0.081218\n",
      "WIDOWED      0.137637\n",
      "Name: HOSPITAL_EXPIRE_FLAG, dtype: float64\n"
     ]
    }
   ],
   "source": [
    "df_train['MARITAL_STATUS'].fillna('MISSING', inplace=True)\n",
    "mean_values = df_train .groupby('MARITAL_STATUS')['HOSPITAL_EXPIRE_FLAG'].mean()\n",
    "print(mean_values)"
   ]
  },
  {
   "cell_type": "markdown",
   "metadata": {},
   "source": [
    "It appears those with NAs have a higher probability of death than the other categories, since the average probability of death is similar to OTHER, I will fill all NaN values with OTHER."
   ]
  },
  {
   "cell_type": "code",
   "execution_count": 13,
   "metadata": {},
   "outputs": [],
   "source": [
    "df_train['MARITAL_STATUS'] = df_train['MARITAL_STATUS'].replace('MISSING', 'OTHER')\n",
    "df_test['MARITAL_STATUS'].fillna('OTHER', inplace=True)"
   ]
  },
  {
   "cell_type": "markdown",
   "metadata": {},
   "source": [
    "Now I look into the religion and ethnicity variables, as these may have too many unique values to one hot encode."
   ]
  },
  {
   "cell_type": "code",
   "execution_count": 14,
   "metadata": {},
   "outputs": [
    {
     "data": {
      "text/plain": [
       "RELIGION\n",
       "CATHOLIC                  7655\n",
       "NOT SPECIFIED             5398\n",
       "PROTESTANT QUAKER         2753\n",
       "JEWISH                    1840\n",
       "UNOBTAINABLE              1515\n",
       "OTHER                      702\n",
       "EPISCOPALIAN               288\n",
       "GREEK ORTHODOX             178\n",
       "CHRISTIAN SCIENTIST        164\n",
       "BUDDHIST                   109\n",
       "MUSLIM                      74\n",
       "UNITARIAN-UNIVERSALIST      54\n",
       "JEHOVAH'S WITNESS           45\n",
       "ROMANIAN EAST. ORTH         41\n",
       "HINDU                       38\n",
       "7TH DAY ADVENTIST           30\n",
       "HEBREW                       1\n",
       "Name: count, dtype: int64"
      ]
     },
     "execution_count": 14,
     "metadata": {},
     "output_type": "execute_result"
    }
   ],
   "source": [
    "# Checking the number of unique religions\n",
    "df_train['RELIGION'].value_counts()"
   ]
  },
  {
   "cell_type": "markdown",
   "metadata": {},
   "source": [
    "There are enough values for most religions to justify one hot encoding, but I add all religions with less than 100 followers to the 'other' category to reduce dimensions."
   ]
  },
  {
   "cell_type": "code",
   "execution_count": 15,
   "metadata": {},
   "outputs": [],
   "source": [
    "# Grouping toegther smaller religions\n",
    "df_train['RELIGION'] = df_train['RELIGION'].replace(['MUSLIM', 'UNITARIAN-UNIVERSALIST', \"JEHOVAH'S WITNESS\", 'ROMANIAN EAST. ORTH', 'HINDU', '7TH DAY ADVENTIST', 'HEBREW'], 'OTHER')\n",
    "df_test['RELIGION'] = df_test['RELIGION'].replace(['MUSLIM', 'UNITARIAN-UNIVERSALIST', \"JEHOVAH'S WITNESS\", 'ROMANIAN EAST. ORTH', 'HINDU', '7TH DAY ADVENTIST', 'HEBREW'], 'OTHER')"
   ]
  },
  {
   "cell_type": "code",
   "execution_count": 16,
   "metadata": {},
   "outputs": [
    {
     "data": {
      "text/plain": [
       "ETHNICITY\n",
       "WHITE                                                       15112\n",
       "BLACK/AFRICAN AMERICAN                                       1977\n",
       "UNABLE TO OBTAIN                                              577\n",
       "UNKNOWN/NOT SPECIFIED                                         568\n",
       "HISPANIC OR LATINO                                            562\n",
       "OTHER                                                         489\n",
       "ASIAN                                                         265\n",
       "PATIENT DECLINED TO ANSWER                                    175\n",
       "HISPANIC/LATINO - PUERTO RICAN                                155\n",
       "ASIAN - CHINESE                                               146\n",
       "BLACK/CAPE VERDEAN                                            126\n",
       "WHITE - RUSSIAN                                               117\n",
       "BLACK/HAITIAN                                                  72\n",
       "HISPANIC/LATINO - DOMINICAN                                    59\n",
       "ASIAN - ASIAN INDIAN                                           58\n",
       "WHITE - OTHER EUROPEAN                                         50\n",
       "MULTI RACE ETHNICITY                                           50\n",
       "PORTUGUESE                                                     40\n",
       "WHITE - BRAZILIAN                                              33\n",
       "ASIAN - VIETNAMESE                                             28\n",
       "BLACK/AFRICAN                                                  26\n",
       "MIDDLE EASTERN                                                 24\n",
       "HISPANIC/LATINO - GUATEMALAN                                   24\n",
       "WHITE - EASTERN EUROPEAN                                       18\n",
       "HISPANIC/LATINO - CUBAN                                        17\n",
       "ASIAN - FILIPINO                                               16\n",
       "ASIAN - CAMBODIAN                                              14\n",
       "AMERICAN INDIAN/ALASKA NATIVE                                  13\n",
       "HISPANIC/LATINO - SALVADORAN                                   13\n",
       "HISPANIC/LATINO - MEXICAN                                       8\n",
       "HISPANIC/LATINO - CENTRAL AMERICAN (OTHER)                      7\n",
       "SOUTH AMERICAN                                                  7\n",
       "CARIBBEAN ISLAND                                                6\n",
       "ASIAN - KOREAN                                                  6\n",
       "NATIVE HAWAIIAN OR OTHER PACIFIC ISLANDER                       6\n",
       "ASIAN - JAPANESE                                                6\n",
       "HISPANIC/LATINO - COLOMBIAN                                     5\n",
       "ASIAN - OTHER                                                   3\n",
       "ASIAN - THAI                                                    3\n",
       "HISPANIC/LATINO - HONDURAN                                      2\n",
       "AMERICAN INDIAN/ALASKA NATIVE FEDERALLY RECOGNIZED TRIBE        2\n",
       "Name: count, dtype: int64"
      ]
     },
     "execution_count": 16,
     "metadata": {},
     "output_type": "execute_result"
    }
   ],
   "source": [
    "# Checking the number of unique ethnicities\n",
    "df_train['ETHNICITY'].value_counts()"
   ]
  },
  {
   "cell_type": "markdown",
   "metadata": {},
   "source": [
    "There are too many different values for ethnicity to one hot encode. I group these into similar ethnicities to reduce the dimensionality."
   ]
  },
  {
   "cell_type": "code",
   "execution_count": 17,
   "metadata": {},
   "outputs": [],
   "source": [
    "# Grouping major ethnic groups\n",
    "ethnic_groups = ['WHITE', 'BLACK', 'HISPANIC', 'ASIAN']\n",
    "\n",
    "for group in ethnic_groups:\n",
    "    df_train.loc[df_train['ETHNICITY'].str.contains(group), 'ETHNICITY'] = group\n",
    "    df_test.loc[df_test['ETHNICITY'].str.contains(group), 'ETHNICITY'] = group\n",
    "\n",
    "\n",
    "# Combining the two 'unknown' variables\n",
    "df_train['ETHNICITY'] = df_train['ETHNICITY'].replace(['UNABLE TO OBTAIN', 'UNKNOWN/NOT SPECIFIED'], 'UNKNOWN')\n",
    "df_test['ETHNICITY'] = df_test['ETHNICITY'].replace(['UNABLE TO OBTAIN', 'UNKNOWN/NOT SPECIFIED'], 'UNKNOWN')\n",
    "\n",
    "# Adding anything with less than 100 obvs into the 'other' category\n",
    "ethnicity_counts = df_train['ETHNICITY'].value_counts()\n",
    "ethnicities_to_replace = ethnicity_counts[ethnicity_counts < 100].index.tolist()\n",
    "df_train.loc[df_train['ETHNICITY'].isin(ethnicities_to_replace), 'ETHNICITY'] = 'OTHER'\n",
    "df_test.loc[df_test['ETHNICITY'].isin(ethnicities_to_replace), 'ETHNICITY'] = 'OTHER'"
   ]
  },
  {
   "cell_type": "code",
   "execution_count": 18,
   "metadata": {},
   "outputs": [
    {
     "data": {
      "text/plain": [
       "ETHNICITY\n",
       "WHITE                         15330\n",
       "BLACK                          2201\n",
       "UNKNOWN                        1145\n",
       "HISPANIC                        852\n",
       "OTHER                           637\n",
       "ASIAN                           545\n",
       "PATIENT DECLINED TO ANSWER      175\n",
       "Name: count, dtype: int64"
      ]
     },
     "execution_count": 18,
     "metadata": {},
     "output_type": "execute_result"
    }
   ],
   "source": [
    "df_train['ETHNICITY'].value_counts()"
   ]
  },
  {
   "cell_type": "markdown",
   "metadata": {},
   "source": [
    "Now we have grouped the ethnicities so they can be one hot encoded. All categorical variables are one hot encoded later in the notebook."
   ]
  },
  {
   "cell_type": "markdown",
   "metadata": {},
   "source": [
    "### ICD9 variable"
   ]
  },
  {
   "cell_type": "markdown",
   "metadata": {},
   "source": [
    "The ICD9 column only contains the main diagnosis, we can load the extra data which has further diagnosis' for the patient."
   ]
  },
  {
   "cell_type": "code",
   "execution_count": 19,
   "metadata": {},
   "outputs": [
    {
     "data": {
      "text/html": [
       "<div>\n",
       "<style scoped>\n",
       "    .dataframe tbody tr th:only-of-type {\n",
       "        vertical-align: middle;\n",
       "    }\n",
       "\n",
       "    .dataframe tbody tr th {\n",
       "        vertical-align: top;\n",
       "    }\n",
       "\n",
       "    .dataframe thead th {\n",
       "        text-align: right;\n",
       "    }\n",
       "</style>\n",
       "<table border=\"1\" class=\"dataframe\">\n",
       "  <thead>\n",
       "    <tr style=\"text-align: right;\">\n",
       "      <th></th>\n",
       "      <th>subject_id</th>\n",
       "      <th>hadm_id</th>\n",
       "      <th>SEQ_NUM</th>\n",
       "      <th>ICD9_diagnosis</th>\n",
       "    </tr>\n",
       "  </thead>\n",
       "  <tbody>\n",
       "    <tr>\n",
       "      <th>0</th>\n",
       "      <td>256</td>\n",
       "      <td>108811</td>\n",
       "      <td>1.0</td>\n",
       "      <td>53240</td>\n",
       "    </tr>\n",
       "    <tr>\n",
       "      <th>1</th>\n",
       "      <td>256</td>\n",
       "      <td>108811</td>\n",
       "      <td>2.0</td>\n",
       "      <td>41071</td>\n",
       "    </tr>\n",
       "    <tr>\n",
       "      <th>2</th>\n",
       "      <td>256</td>\n",
       "      <td>108811</td>\n",
       "      <td>3.0</td>\n",
       "      <td>53560</td>\n",
       "    </tr>\n",
       "    <tr>\n",
       "      <th>3</th>\n",
       "      <td>256</td>\n",
       "      <td>108811</td>\n",
       "      <td>4.0</td>\n",
       "      <td>40390</td>\n",
       "    </tr>\n",
       "    <tr>\n",
       "      <th>4</th>\n",
       "      <td>256</td>\n",
       "      <td>108811</td>\n",
       "      <td>5.0</td>\n",
       "      <td>5859</td>\n",
       "    </tr>\n",
       "    <tr>\n",
       "      <th>...</th>\n",
       "      <td>...</td>\n",
       "      <td>...</td>\n",
       "      <td>...</td>\n",
       "      <td>...</td>\n",
       "    </tr>\n",
       "    <tr>\n",
       "      <th>651042</th>\n",
       "      <td>65535</td>\n",
       "      <td>178280</td>\n",
       "      <td>5.0</td>\n",
       "      <td>5119</td>\n",
       "    </tr>\n",
       "    <tr>\n",
       "      <th>651043</th>\n",
       "      <td>65535</td>\n",
       "      <td>178280</td>\n",
       "      <td>6.0</td>\n",
       "      <td>5990</td>\n",
       "    </tr>\n",
       "    <tr>\n",
       "      <th>651044</th>\n",
       "      <td>65535</td>\n",
       "      <td>178280</td>\n",
       "      <td>7.0</td>\n",
       "      <td>0414</td>\n",
       "    </tr>\n",
       "    <tr>\n",
       "      <th>651045</th>\n",
       "      <td>65535</td>\n",
       "      <td>178280</td>\n",
       "      <td>8.0</td>\n",
       "      <td>25000</td>\n",
       "    </tr>\n",
       "    <tr>\n",
       "      <th>651046</th>\n",
       "      <td>65535</td>\n",
       "      <td>178280</td>\n",
       "      <td>9.0</td>\n",
       "      <td>4019</td>\n",
       "    </tr>\n",
       "  </tbody>\n",
       "</table>\n",
       "<p>651047 rows × 4 columns</p>\n",
       "</div>"
      ],
      "text/plain": [
       "        subject_id  hadm_id  SEQ_NUM ICD9_diagnosis\n",
       "0              256   108811      1.0          53240\n",
       "1              256   108811      2.0          41071\n",
       "2              256   108811      3.0          53560\n",
       "3              256   108811      4.0          40390\n",
       "4              256   108811      5.0           5859\n",
       "...            ...      ...      ...            ...\n",
       "651042       65535   178280      5.0           5119\n",
       "651043       65535   178280      6.0           5990\n",
       "651044       65535   178280      7.0           0414\n",
       "651045       65535   178280      8.0          25000\n",
       "651046       65535   178280      9.0           4019\n",
       "\n",
       "[651047 rows x 4 columns]"
      ]
     },
     "execution_count": 19,
     "metadata": {},
     "output_type": "execute_result"
    }
   ],
   "source": [
    "# Load meta data\n",
    "data_meta = pd.read_csv(\"dl24-probability-of-death-with-k-nn/extra_data/MIMIC_diagnoses.csv\")  \n",
    "data_meta = data_meta.rename(columns= {'ICD9_CODE': 'ICD9_diagnosis', 'SUBJECT_ID': 'subject_id', 'HADM_ID': 'hadm_id'})\n",
    "\n",
    "data_meta"
   ]
  },
  {
   "cell_type": "markdown",
   "metadata": {},
   "source": [
    "Where SEQ = 1 we have the same information that is in the original dataset, so these are dropped. I also only keep the top 10 diagnosis as some patients have a large number of ICD9 numbers."
   ]
  },
  {
   "cell_type": "code",
   "execution_count": 20,
   "metadata": {},
   "outputs": [],
   "source": [
    "data_meta = data_meta[data_meta['SEQ_NUM'].between(2, 10)]"
   ]
  },
  {
   "cell_type": "markdown",
   "metadata": {},
   "source": [
    "Now we merge the secondary ICD9 numbers into the main dataset."
   ]
  },
  {
   "cell_type": "code",
   "execution_count": 21,
   "metadata": {},
   "outputs": [],
   "source": [
    "data_meta = data_meta.pivot(index=['subject_id', 'hadm_id'], columns= 'SEQ_NUM', values='ICD9_diagnosis')\n",
    "data_meta = data_meta.reset_index()\n",
    "\n",
    "# Rename columns \n",
    "data_meta.columns = ['subject_id'] + ['hadm_id'] + [f'ICD9_{col}' for col in data_meta.columns[2:]]\n",
    "\n",
    "# Merge in columns\n",
    "df_train = df_train.merge(data_meta, on=['subject_id', 'hadm_id'], how='left')\n",
    "df_test = df_test.merge(data_meta, on=['subject_id', 'hadm_id'], how='left')\n",
    "\n",
    "# Rename original ICD9 col\n",
    "df_train.rename(columns={'ICD9_diagnosis': 'ICD9_1.0'}, inplace=True)\n",
    "df_test.rename(columns={'ICD9_diagnosis': 'ICD9_1.0'}, inplace=True)"
   ]
  },
  {
   "cell_type": "markdown",
   "metadata": {},
   "source": [
    "There are too many ICD9 cols and values to use one hot encoding. One other option for categorical variables of this nature is to use target encoding. This condenses the information within categorical variables into a single feature that represents the mean of some target value. In this case, I use the death flag as the target variable, so each ICD9 value is represented by the probability that a patient with this diagnosis died. This ensures that patients with more severe diagnoses are represented closer in the models feature space. \n",
    "\n",
    "Targt encoding can lead to overfitting, so to mitigate against this I use smoothing, where the target encoding is a blend of the category mean and the overall mean of the target variable. The balance between the category-specific mean and the overall mean is determined by the number of samples for each category. As the number of samples for a category decreases, the contribution of the category-specific mean decreases, and the contribution of the overall mean increases, leading to more stable estimates."
   ]
  },
  {
   "cell_type": "code",
   "execution_count": 22,
   "metadata": {},
   "outputs": [],
   "source": [
    "target_cols = [f'ICD9_{i}.0' for i in range(1, 11)]\n",
    "\n",
    "# Target encode each ICD9 col\n",
    "for col in target_cols:\n",
    "    encoder = TargetEncoder(smooth=\"auto\")\n",
    "    values = encoder.fit_transform(X=df_train[[col]], y=df_train['HOSPITAL_EXPIRE_FLAG'])\n",
    "    values = encoder.transform(X=df_train[[col]])\n",
    "    df_train[f'{col}_encoded'] = values"
   ]
  },
  {
   "cell_type": "code",
   "execution_count": 23,
   "metadata": {},
   "outputs": [],
   "source": [
    "# Extract target encoded values to input into test data\n",
    "encoded_cols = [f'ICD9_{i}.0_encoded' for i in range(1, 11)]\n",
    "\n",
    "unique_pairs_dict = {}\n",
    "for column, encoding in zip(target_cols, encoded_cols):\n",
    "    unique_pairs = df_train[[column, encoding]].drop_duplicates().sort_values(by=encoding)\n",
    "    unique_pairs_dict[column] = unique_pairs\n",
    "\n",
    "# Merge encoded values with df_test for each column\n",
    "for column, encoding in zip(target_cols, encoded_cols):\n",
    "    df_test = df_test.merge(unique_pairs_dict[column][[column, encoding]], on=column, how='left')"
   ]
  },
  {
   "cell_type": "code",
   "execution_count": 24,
   "metadata": {},
   "outputs": [],
   "source": [
    "# Drop unencoded variables\n",
    "df_train.drop(target_cols,  axis=1, inplace = True)\n",
    "df_test.drop(target_cols,  axis=1, inplace = True)"
   ]
  },
  {
   "cell_type": "markdown",
   "metadata": {},
   "source": [
    "We have now target encoded multiple ICD9 columns. To reduce the dimensionality I just keep the primary ICD9 target encoding, then average over all the secondary ICD9 diagnosis columns."
   ]
  },
  {
   "cell_type": "code",
   "execution_count": 25,
   "metadata": {},
   "outputs": [],
   "source": [
    "icd9_mean_cols = [f'ICD9_{i}.0_encoded' for i in range(2, 11)]\n",
    "\n",
    "# Compute mean of those columns and add as a new column\n",
    "df_train['ICD9_secondary'] = df_train[icd9_mean_cols].mean(axis=1)\n",
    "df_test['ICD9_secondary'] = df_test[icd9_mean_cols].mean(axis=1)\n",
    "\n",
    "# Drop secondary diagnosis cols\n",
    "df_train.drop(icd9_mean_cols,  axis=1, inplace = True)\n",
    "df_test.drop(icd9_mean_cols,  axis=1, inplace = True)"
   ]
  },
  {
   "cell_type": "markdown",
   "metadata": {},
   "source": [
    "### One hot encoding"
   ]
  },
  {
   "cell_type": "code",
   "execution_count": 26,
   "metadata": {},
   "outputs": [],
   "source": [
    "# Define cols to one hot encode\n",
    "one_hot_columns = ['GENDER', 'ADMISSION_TYPE', 'INSURANCE', 'MARITAL_STATUS', 'RELIGION', 'ETHNICITY']"
   ]
  },
  {
   "cell_type": "code",
   "execution_count": 27,
   "metadata": {},
   "outputs": [
    {
     "name": "stdout",
     "output_type": "stream",
     "text": [
      "Categorical columns dropped: ['GENDER', 'ADMISSION_TYPE', 'INSURANCE', 'MARITAL_STATUS', 'RELIGION', 'ETHNICITY']\n"
     ]
    }
   ],
   "source": [
    "# One-hot encoding\n",
    "df_train = pd.get_dummies(df_train, columns = one_hot_columns)\n",
    "df_test = pd.get_dummies(df_test, columns = one_hot_columns)\n",
    "\n",
    "# Print columns that were dropped\n",
    "print(\"Categorical columns dropped:\", one_hot_columns)"
   ]
  },
  {
   "cell_type": "markdown",
   "metadata": {},
   "source": [
    "### Creating age variable"
   ]
  },
  {
   "cell_type": "markdown",
   "metadata": {},
   "source": [
    "The DOB and admission time can be used to create a variable showing the age at admission."
   ]
  },
  {
   "cell_type": "code",
   "execution_count": 28,
   "metadata": {},
   "outputs": [],
   "source": [
    "# Process DOB column\n",
    "df_train['DOB'] = pd.to_datetime(df_train['DOB'])\n",
    "df_test['DOB'] = pd.to_datetime(df_test['DOB'])\n",
    "\n",
    "df_train['DOB'] = df_train['DOB'] + pd.to_timedelta(df_train['Diff'], unit='D')\n",
    "df_test['DOB'] = df_test['DOB'] + pd.to_timedelta(df_test['Diff'], unit='D')\n",
    "\n",
    "# Remove outliers \n",
    "df_train.loc[df_train['DOB'].dt.year < 1880, 'DOB'] = None\n",
    "df_test.loc[df_test['DOB'].dt.year < 1880, 'DOB'] = None\n",
    "\n",
    "# Process ADMITTIME column\n",
    "df_train['ADMITTIME'] = pd.to_datetime(df_train['ADMITTIME'])\n",
    "df_test['ADMITTIME'] = pd.to_datetime(df_test['ADMITTIME'])\n",
    "\n",
    "df_train['ADMITTIME'] = df_train['ADMITTIME'] + pd.to_timedelta(df_train['Diff'], unit='D')\n",
    "df_test['ADMITTIME'] = df_test['ADMITTIME'] + pd.to_timedelta(df_test['Diff'], unit='D')\n",
    "\n",
    "## Calculate age\n",
    "df_train['AGE'] = df_train['ADMITTIME'].dt.year - df_train['DOB'].dt.year\n",
    "df_test['AGE'] = df_test['ADMITTIME'].dt.year - df_test['DOB'].dt.year"
   ]
  },
  {
   "cell_type": "code",
   "execution_count": 29,
   "metadata": {},
   "outputs": [
    {
     "data": {
      "image/png": "[encoded data removed]",
      "text/plain": [
       "<Figure size 640x480 with 1 Axes>"
      ]
     },
     "metadata": {},
     "output_type": "display_data"
    }
   ],
   "source": [
    "# Checking distribution of age\n",
    "plt.hist(df_train['AGE'], bins=30);"
   ]
  },
  {
   "cell_type": "code",
   "execution_count": 30,
   "metadata": {},
   "outputs": [
    {
     "data": {
      "image/png": "[encoded data removed]",
      "text/plain": [
       "<Figure size 640x480 with 1 Axes>"
      ]
     },
     "metadata": {},
     "output_type": "display_data"
    }
   ],
   "source": [
    "plt.hist(df_test['AGE'], bins=30);"
   ]
  },
  {
   "cell_type": "markdown",
   "metadata": {},
   "source": [
    "The distribution of ages looks as expected. We created some NaN values which will be imputed below."
   ]
  },
  {
   "cell_type": "markdown",
   "metadata": {},
   "source": [
    "### Scaling variables"
   ]
  },
  {
   "cell_type": "markdown",
   "metadata": {},
   "source": [
    "Scaling the data is very important when using algorithms like KNN which try to determine how close two observations are in euclidean space. Scaling the data ensures each feature contributes equally to the calculation of distance. Without scaling features with larger scales would have greater influence on the model.\n",
    "\n",
    "Below I use robust scaling which uses the median and quantile range to scale the data. This approach is more sensitive to outliers so will control for the presence of outliers in some of the features."
   ]
  },
  {
   "cell_type": "markdown",
   "metadata": {},
   "source": [
    "The columns_to_scale variable below also determines what features will be included in the modelling. Notice that the religion and ethnicity variables are excluded as after experimenting, the inclusion of these variables reduced the out of sample performance of the models. "
   ]
  },
  {
   "cell_type": "code",
   "execution_count": 31,
   "metadata": {},
   "outputs": [],
   "source": [
    "# Scaling numerical and binary variables\n",
    "columns_to_scale = ['HeartRate_Mean', 'SysBP_Mean', 'DiasBP_Mean', 'MeanBP_Mean', 'RespRate_Mean', 'TempC_Mean','SpO2_Mean', 'Glucose_Mean', 'GENDER_F','GENDER_M', \n",
    "                    'ADMISSION_TYPE_ELECTIVE', 'ADMISSION_TYPE_EMERGENCY', 'ADMISSION_TYPE_URGENT', 'INSURANCE_Government', 'INSURANCE_Medicaid', 'INSURANCE_Medicare', \n",
    "                    'INSURANCE_Private', 'INSURANCE_Self Pay', 'MARITAL_STATUS_DIVORCED', 'MARITAL_STATUS_MARRIED', 'MARITAL_STATUS_OTHER',\n",
    "                    'MARITAL_STATUS_SEPARATED', 'MARITAL_STATUS_SINGLE', 'MARITAL_STATUS_WIDOWED', 'AGE', 'ICD9_1.0_encoded', 'ICD9_secondary']\n",
    "\n",
    "\n",
    "scaler = preprocessing.RobustScaler()\n",
    "scaler.fit(df_train[columns_to_scale])\n",
    "df_train[columns_to_scale] = scaler.transform(df_train[columns_to_scale])\n",
    "df_test[columns_to_scale] = scaler.transform(df_test[columns_to_scale])"
   ]
  },
  {
   "cell_type": "markdown",
   "metadata": {},
   "source": [
    "### Imputing"
   ]
  },
  {
   "cell_type": "markdown",
   "metadata": {},
   "source": [
    "The numerical variables in the data contained missing values. I use KNN imputing to fill these missing values. This works by assuming that similar observations have similar feature values, then taking the average of a set number of neighbors to impute the missing values in the data. Below I use 5 neighbors as after some experimentation this led to the best out of sample performance."
   ]
  },
  {
   "cell_type": "code",
   "execution_count": 32,
   "metadata": {},
   "outputs": [],
   "source": [
    "# Imputing missing numerical values with KNN imputer\n",
    "columns_to_impute = ['HeartRate_Mean', 'SysBP_Mean', 'DiasBP_Mean', 'MeanBP_Mean', 'RespRate_Mean', 'TempC_Mean','SpO2_Mean', 'Glucose_Mean', 'AGE', 'ICD9_1.0_encoded', 'ICD9_secondary'] \n",
    "\n",
    "imputer = KNNImputer(n_neighbors=5)\n",
    "df_train[columns_to_impute] = imputer.fit_transform(df_train[columns_to_impute])\n",
    "df_test[columns_to_impute] = imputer.transform(df_test[columns_to_impute])"
   ]
  },
  {
   "cell_type": "markdown",
   "metadata": {},
   "source": [
    "### Re-sampling"
   ]
  },
  {
   "cell_type": "markdown",
   "metadata": {},
   "source": [
    "It is common in classification models for there to be more of one class than another, this is known as class imbalance. Below I check how balanced the death flag is in the data."
   ]
  },
  {
   "cell_type": "code",
   "execution_count": 33,
   "metadata": {},
   "outputs": [
    {
     "data": {
      "text/plain": [
       "HOSPITAL_EXPIRE_FLAG\n",
       "0    18540\n",
       "1     2345\n",
       "Name: count, dtype: int64"
      ]
     },
     "execution_count": 33,
     "metadata": {},
     "output_type": "execute_result"
    }
   ],
   "source": [
    "df_train['HOSPITAL_EXPIRE_FLAG'].value_counts()"
   ]
  },
  {
   "cell_type": "markdown",
   "metadata": {},
   "source": [
    "We have a large class imbalance which can lead to problems identifying the minority class. Speficially class imbalance can lead to bias towards the majority class and poor generalization as the model has less of the minority class to train on. To adress these issues we can re-sample the data, where we artifically balance the class we are trying to predict.\n",
    "\n",
    "Below I use SMOTE-Tomek links to re-sample the classes before modelling. This is a combination of two techniques used to address class imbalance:\n",
    "\n",
    "- SMOTE: A technique used to oversample the minority class by generating synthetic examples that are similar to existing minority class instances.\n",
    "\n",
    "- Tomek links: Tomek Links are pairs of instances (one from the majority class and one from the minority class) that are nearest neighbors of each other but belong to different classes. Removing these instances helps to improve the separation between the classes and can make the classification task easier.\n",
    "\n",
    "After experimenting with the models, re-sampling only improved the performance of the SVM model, so the original data will be used when training the KNN model."
   ]
  },
  {
   "cell_type": "code",
   "execution_count": 34,
   "metadata": {},
   "outputs": [],
   "source": [
    "# Subset dataframes with variables to be included in the model (same as cols we scaled)\n",
    "X_train = df_train[columns_to_scale]\n",
    "X_test = df_test[columns_to_scale]\n",
    "y_train = df_train[['HOSPITAL_EXPIRE_FLAG']]"
   ]
  },
  {
   "cell_type": "code",
   "execution_count": 35,
   "metadata": {},
   "outputs": [],
   "source": [
    "resample = SMOTETomek(tomek=TomekLinks(sampling_strategy='majority'))\n",
    "\n",
    "# Resample the dataset\n",
    "X_train_resampled, y_train_resampled = resample.fit_resample(X_train, y_train)"
   ]
  },
  {
   "cell_type": "code",
   "execution_count": 36,
   "metadata": {},
   "outputs": [
    {
     "data": {
      "text/plain": [
       "HOSPITAL_EXPIRE_FLAG\n",
       "1    18540\n",
       "0    18532\n",
       "Name: count, dtype: int64"
      ]
     },
     "execution_count": 36,
     "metadata": {},
     "output_type": "execute_result"
    }
   ],
   "source": [
    "y_train_resampled['HOSPITAL_EXPIRE_FLAG'].value_counts()"
   ]
  },
  {
   "cell_type": "markdown",
   "metadata": {},
   "source": [
    "Resampling has achieved class balance ahead of modelling. When using re-sampled data in SVM we need to re-weight the prediction probabilities as we have biased the data. The below function will be used after making predictions to re-weight the probabilities."
   ]
  },
  {
   "cell_type": "code",
   "execution_count": 37,
   "metadata": {},
   "outputs": [],
   "source": [
    "# Define function for reweighting probabilities \n",
    "def reweight(pi,q1=0.5,r1=0.5):\n",
    "    r0 = 1-r1\n",
    "    q0 = 1-q1\n",
    "    tot = pi*(q1/r1)+(1-pi)*(q0/r0)\n",
    "    w = pi*(q1/r1)\n",
    "    w /= tot\n",
    "    return w\n",
    "\n",
    "# q1 is the percentage of deaths in the training sample, r1 is the rebalanced percentage of the minority class\n",
    "q1 = (y_train_resampled.value_counts()/len(y_train_resampled))[1] \n",
    "r1 = 0.5"
   ]
  },
  {
   "cell_type": "markdown",
   "metadata": {},
   "source": [
    "### PCA"
   ]
  },
  {
   "cell_type": "markdown",
   "metadata": {},
   "source": [
    "I experimented with PCA for dimensionality reduction. PCA reduces the dimensionality of the data while retaining as much of the original variance in the data as possible. This can improve the performance of a model by reducing noise in the data and only preserving the most important variation in each feature.\n",
    "\n",
    "Below I reduce the dimensionality of the data without re-sampling to 10 features as this improved the out of sample performance of KNN the most. I also experimented with using PCA on the re-sampled data for SVM, but this made the out of sample prediction worse."
   ]
  },
  {
   "cell_type": "code",
   "execution_count": 38,
   "metadata": {},
   "outputs": [],
   "source": [
    "# Instantiate PCA\n",
    "pca = PCA(n_components=10)\n",
    "\n",
    "# Fit and transform the data \n",
    "X_train_pca = pca.fit_transform(X_train)\n",
    "X_test_pca = pca.transform(X_test)"
   ]
  },
  {
   "cell_type": "code",
   "execution_count": 39,
   "metadata": {},
   "outputs": [],
   "source": [
    "# Convert to arrays for modelling\n",
    "y_train_resampled = y_train_resampled.values.ravel()\n",
    "y_train = y_train.values.ravel()"
   ]
  },
  {
   "cell_type": "markdown",
   "metadata": {},
   "source": [
    "# KNN model"
   ]
  },
  {
   "cell_type": "markdown",
   "metadata": {},
   "source": [
    "To train the KNN model I use grid search to find the optimal parameters. This works by testing multiple combinations of parameters, and cross validating against a subset of the data. For KNN I set the algorithm to \"brute\" which calculates the distance between every other point in the dataset. This is computationally expensive but with datasets that are not too large will find the best solution compared with other algorithms that employ space partitioning data structures to speed up the process. This means I grid search over the following two parameters:\n",
    "- n_neighbors: Determines the number of neighbors to consider in the calculation\n",
    "- weights: Determines the weight given to points when calculating the probability of death. Uniform weights all points equally while distance gives more weight to those points which are closer.\n",
    "\n",
    "For scoring, I use ROC_AUC which is the area under the Receiver Operating Characteristic curve (ROC). The area under this curve summarizes the performance of a binary classifier, giving an indication of the classifiers ability to distinguish between positive and negative classes wihtout using a specific threshold."
   ]
  },
  {
   "cell_type": "code",
   "execution_count": 40,
   "metadata": {},
   "outputs": [
    {
     "name": "stdout",
     "output_type": "stream",
     "text": [
      "Optimal Number of Neighbors: 200\n",
      "Optimal Weight: distance\n"
     ]
    }
   ],
   "source": [
    "knn_model = KNeighborsClassifier(algorithm='brute')\n",
    "\n",
    "grid_values = {'n_neighbors':[1, 5, 10, 20, 30, 40, 100, 150, 200], 'weights':['uniform','distance']}\n",
    "grid_knn_acc = GridSearchCV(knn_model, param_grid = grid_values, scoring = 'roc_auc', cv=5)\n",
    "grid_knn_acc.fit(X_train_pca, y_train)\n",
    "\n",
    "best_params = grid_knn_acc.best_params_\n",
    "optimal_neighbors = best_params['n_neighbors']\n",
    "optimal_weights = best_params['weights']\n",
    "print('Optimal Number of Neighbors:', optimal_neighbors)\n",
    "print('Optimal Weight:', optimal_weights)"
   ]
  },
  {
   "cell_type": "code",
   "execution_count": 45,
   "metadata": {},
   "outputs": [],
   "source": [
    "# Predicting probabilities\n",
    "knn_probs = grid_knn_acc.predict_proba(X_test_pca)"
   ]
  },
  {
   "cell_type": "code",
   "execution_count": 46,
   "metadata": {},
   "outputs": [],
   "source": [
    "knn_pred_df = pd.DataFrame({\n",
    "    'icustay_id': df_test['icustay_id'],\n",
    "    'HOSPITAL_EXPIRE_FLAG': knn_probs[:, 1]\n",
    "})"
   ]
  },
  {
   "cell_type": "code",
   "execution_count": 47,
   "metadata": {},
   "outputs": [],
   "source": [
    "# Save predictions\n",
    "knn_pred_df.to_csv(\"C:/Users/gatla/OneDrive/BSE/CL_DL/project_1/knn_predictions.csv\", index=False)"
   ]
  },
  {
   "cell_type": "markdown",
   "metadata": {},
   "source": [
    "# SVM model"
   ]
  },
  {
   "cell_type": "markdown",
   "metadata": {},
   "source": [
    "SVM aims to find the optimal hyperplane that best separates the data points of different classes in the feature space. I also use grid search over the following parameters to tune my model:\n",
    "- kernel: Determines the way in which data is transformed into higher dimensional space when the data isn't linearly seperable in its normal state.\n",
    "- gamma: this only applies to the 'rbf' and 'poly' kernels and it determines the shape of the decision boundary.\n",
    "- degree: the degree of the polynomial kernel\n",
    "- C: represents the penalty cost for slack points which is where some data points are allowed to be on the wrong side of the decision boundary. It's an important parameter to tune to prevent overfitting.\n",
    "\n",
    "The class_weight parameter is used to fix for unbalanced data, however, since I have already re-sampled the data using SMOTE-Tomek links, I set this to none. As mentioned previously, the prediction probabilities will then be re-weighted to account for the bias introduced by re-sampling. For scoring I use ROC_AUC for the same reasons explained above.\n",
    "\n"
   ]
  },
  {
   "cell_type": "code",
   "execution_count": 54,
   "metadata": {},
   "outputs": [
    {
     "name": "stdout",
     "output_type": "stream",
     "text": [
      "Optimal Number of Neighbors: rbf\n",
      "Optimal Gamma: 0.01\n",
      "Optimal Degree: 3\n",
      "Optimal C: 1.5\n"
     ]
    }
   ],
   "source": [
    "X_train_sample = X_train_resampled.sample(n=5000, random_state=42)\n",
    "y_train_sample = y_train_resampled[X_train_sample.index]\n",
    "\n",
    "svm_model = SVC(class_weight=None, probability=True)\n",
    "\n",
    "grid_values = {'kernel': ['linear', 'rbf', 'poly'],\n",
    "               'gamma': [0.01, 0.05, 0.1],\n",
    "               'degree': [2,3,4],\n",
    "               'C': [0.1, 1, 100]}\n",
    "\n",
    "grid_svc_acc = GridSearchCV(svm_model, param_grid = grid_values, scoring = 'roc_auc', cv=5)\n",
    "\n",
    "grid_svc_acc.fit(X_train_sample, y_train_sample)\n",
    "\n",
    "best_params = grid_svc_acc.best_params_\n",
    "optimal_kernel = best_params['kernel']\n",
    "optimal_gamma = best_params['gamma']\n",
    "optimal_degree = best_params['degree']\n",
    "optimal_C = best_params['C']\n",
    "print('Optimal Number of Neighbors:', optimal_kernel)\n",
    "print('Optimal Gamma:', optimal_gamma)\n",
    "print('Optimal Degree:', optimal_degree)\n",
    "print('Optimal C:', optimal_C)"
   ]
  },
  {
   "cell_type": "code",
   "execution_count": 50,
   "metadata": {},
   "outputs": [
    {
     "data": {
      "text/html": [
       "<style>#sk-container-id-2 {color: black;}#sk-container-id-2 pre{padding: 0;}#sk-container-id-2 div.sk-toggleable {background-color: white;}#sk-container-id-2 label.sk-toggleable__label {cursor: pointer;display: block;width: 100%;margin-bottom: 0;padding: 0.3em;box-sizing: border-box;text-align: center;}#sk-container-id-2 label.sk-toggleable__label-arrow:before {content: \"▸\";float: left;margin-right: 0.25em;color: #696969;}#sk-container-id-2 label.sk-toggleable__label-arrow:hover:before {color: black;}#sk-container-id-2 div.sk-estimator:hover label.sk-toggleable__label-arrow:before {color: black;}#sk-container-id-2 div.sk-toggleable__content {max-height: 0;max-width: 0;overflow: hidden;text-align: left;background-color: #f0f8ff;}#sk-container-id-2 div.sk-toggleable__content pre {margin: 0.2em;color: black;border-radius: 0.25em;background-color: #f0f8ff;}#sk-container-id-2 input.sk-toggleable__control:checked~div.sk-toggleable__content {max-height: 200px;max-width: 100%;overflow: auto;}#sk-container-id-2 input.sk-toggleable__control:checked~label.sk-toggleable__label-arrow:before {content: \"▾\";}#sk-container-id-2 div.sk-estimator input.sk-toggleable__control:checked~label.sk-toggleable__label {background-color: #d4ebff;}#sk-container-id-2 div.sk-label input.sk-toggleable__control:checked~label.sk-toggleable__label {background-color: #d4ebff;}#sk-container-id-2 input.sk-hidden--visually {border: 0;clip: rect(1px 1px 1px 1px);clip: rect(1px, 1px, 1px, 1px);height: 1px;margin: -1px;overflow: hidden;padding: 0;position: absolute;width: 1px;}#sk-container-id-2 div.sk-estimator {font-family: monospace;background-color: #f0f8ff;border: 1px dotted black;border-radius: 0.25em;box-sizing: border-box;margin-bottom: 0.5em;}#sk-container-id-2 div.sk-estimator:hover {background-color: #d4ebff;}#sk-container-id-2 div.sk-parallel-item::after {content: \"\";width: 100%;border-bottom: 1px solid gray;flex-grow: 1;}#sk-container-id-2 div.sk-label:hover label.sk-toggleable__label {background-color: #d4ebff;}#sk-container-id-2 div.sk-serial::before {content: \"\";position: absolute;border-left: 1px solid gray;box-sizing: border-box;top: 0;bottom: 0;left: 50%;z-index: 0;}#sk-container-id-2 div.sk-serial {display: flex;flex-direction: column;align-items: center;background-color: white;padding-right: 0.2em;padding-left: 0.2em;position: relative;}#sk-container-id-2 div.sk-item {position: relative;z-index: 1;}#sk-container-id-2 div.sk-parallel {display: flex;align-items: stretch;justify-content: center;background-color: white;position: relative;}#sk-container-id-2 div.sk-item::before, #sk-container-id-2 div.sk-parallel-item::before {content: \"\";position: absolute;border-left: 1px solid gray;box-sizing: border-box;top: 0;bottom: 0;left: 50%;z-index: -1;}#sk-container-id-2 div.sk-parallel-item {display: flex;flex-direction: column;z-index: 1;position: relative;background-color: white;}#sk-container-id-2 div.sk-parallel-item:first-child::after {align-self: flex-end;width: 50%;}#sk-container-id-2 div.sk-parallel-item:last-child::after {align-self: flex-start;width: 50%;}#sk-container-id-2 div.sk-parallel-item:only-child::after {width: 0;}#sk-container-id-2 div.sk-dashed-wrapped {border: 1px dashed gray;margin: 0 0.4em 0.5em 0.4em;box-sizing: border-box;padding-bottom: 0.4em;background-color: white;}#sk-container-id-2 div.sk-label label {font-family: monospace;font-weight: bold;display: inline-block;line-height: 1.2em;}#sk-container-id-2 div.sk-label-container {text-align: center;}#sk-container-id-2 div.sk-container {/* jupyter's `normalize.less` sets `[hidden] { display: none; }` but bootstrap.min.css set `[hidden] { display: none !important; }` so we also need the `!important` here to be able to override the default hidden behavior on the sphinx rendered scikit-learn.org. See: https://github.com/scikit-learn/scikit-learn/issues/21755 */display: inline-block !important;position: relative;}#sk-container-id-2 div.sk-text-repr-fallback {display: none;}</style><div id=\"sk-container-id-2\" class=\"sk-top-container\"><div class=\"sk-text-repr-fallback\"><pre>SVC(C=1.5, gamma=0.01, probability=True)</pre><b>In a Jupyter environment, please rerun this cell to show the HTML representation or trust the notebook. <br />On GitHub, the HTML representation is unable to render, please try loading this page with nbviewer.org.</b></div><div class=\"sk-container\" hidden><div class=\"sk-item\"><div class=\"sk-estimator sk-toggleable\"><input class=\"sk-toggleable__control sk-hidden--visually\" id=\"sk-estimator-id-2\" type=\"checkbox\" checked><label for=\"sk-estimator-id-2\" class=\"sk-toggleable__label sk-toggleable__label-arrow\">SVC</label><div class=\"sk-toggleable__content\"><pre>SVC(C=1.5, gamma=0.01, probability=True)</pre></div></div></div></div></div>"
      ],
      "text/plain": [
       "SVC(C=1.5, gamma=0.01, probability=True)"
      ]
     },
     "execution_count": 50,
     "metadata": {},
     "output_type": "execute_result"
    }
   ],
   "source": [
    "# Run model with optimal params (params hard coded so grid search doesn't have to be re-run each time the notebook is run)\n",
    "svm_model = SVC(kernel = 'rbf', C = 1.5, gamma = 0.01, class_weight=None, probability=True)\n",
    "svm_model.fit(X_train_resampled, y_train_resampled)"
   ]
  },
  {
   "cell_type": "code",
   "execution_count": 51,
   "metadata": {},
   "outputs": [],
   "source": [
    "# Predict probabilities and re-weight\n",
    "svm_probs = pd.Series(svm_model.predict_proba(X_test)[:,1]).apply(reweight,args=(q1,r1))\n",
    "svm_probs = np.column_stack((1 - svm_probs, svm_probs))"
   ]
  },
  {
   "cell_type": "code",
   "execution_count": 52,
   "metadata": {},
   "outputs": [],
   "source": [
    "svm_pred_df = pd.DataFrame({\n",
    "    'icustay_id': df_test['icustay_id'],\n",
    "    'HOSPITAL_EXPIRE_FLAG': svm_probs[:, 1]\n",
    "})"
   ]
  },
  {
   "cell_type": "code",
   "execution_count": 53,
   "metadata": {},
   "outputs": [],
   "source": [
    "svm_pred_df.to_csv(\"C:/Users/gatla/OneDrive/BSE/CL_DL/project_1/svm_predictions.csv\", index=False)"
   ]
  }
 ],
 "metadata": {
  "kernelspec": {
   "display_name": "ml_project1",
   "language": "python",
   "name": "python3"
  },
  "language_info": {
   "codemirror_mode": {
    "name": "ipython",
    "version": 3
   },
   "file_extension": ".py",
   "mimetype": "text/x-python",
   "name": "python",
   "nbconvert_exporter": "python",
   "pygments_lexer": "ipython3",
   "version": "3.12.0"
  }
 },
 "nbformat": 4,
 "nbformat_minor": 2
}
